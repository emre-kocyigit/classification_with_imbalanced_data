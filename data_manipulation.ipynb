{
 "cells": [
  {
   "cell_type": "code",
   "execution_count": 7,
   "id": "f3d4057c",
   "metadata": {},
   "outputs": [],
   "source": [
    "# !pip install --upgrade pandas"
   ]
  },
  {
   "cell_type": "code",
   "execution_count": 8,
   "id": "8e5af502",
   "metadata": {},
   "outputs": [],
   "source": [
    "import pandas as pd"
   ]
  },
  {
   "cell_type": "code",
   "execution_count": 54,
   "id": "6e7bd71d",
   "metadata": {},
   "outputs": [],
   "source": [
    "import classification as cl"
   ]
  },
  {
   "cell_type": "code",
   "execution_count": 15,
   "id": "ab25f9a8",
   "metadata": {},
   "outputs": [],
   "source": [
    "df = pd.read_csv(\"creditcard.csv\")"
   ]
  },
  {
   "cell_type": "code",
   "execution_count": 16,
   "id": "e41f9eb5",
   "metadata": {},
   "outputs": [
    {
     "name": "stdout",
     "output_type": "stream",
     "text": [
      "<class 'pandas.core.frame.DataFrame'>\n",
      "RangeIndex: 284807 entries, 0 to 284806\n",
      "Data columns (total 31 columns):\n",
      " #   Column  Non-Null Count   Dtype  \n",
      "---  ------  --------------   -----  \n",
      " 0   Time    284807 non-null  float64\n",
      " 1   V1      284807 non-null  float64\n",
      " 2   V2      284807 non-null  float64\n",
      " 3   V3      284807 non-null  float64\n",
      " 4   V4      284807 non-null  float64\n",
      " 5   V5      284807 non-null  float64\n",
      " 6   V6      284807 non-null  float64\n",
      " 7   V7      284807 non-null  float64\n",
      " 8   V8      284807 non-null  float64\n",
      " 9   V9      284807 non-null  float64\n",
      " 10  V10     284807 non-null  float64\n",
      " 11  V11     284807 non-null  float64\n",
      " 12  V12     284807 non-null  float64\n",
      " 13  V13     284807 non-null  float64\n",
      " 14  V14     284807 non-null  float64\n",
      " 15  V15     284807 non-null  float64\n",
      " 16  V16     284807 non-null  float64\n",
      " 17  V17     284807 non-null  float64\n",
      " 18  V18     284807 non-null  float64\n",
      " 19  V19     284807 non-null  float64\n",
      " 20  V20     284807 non-null  float64\n",
      " 21  V21     284807 non-null  float64\n",
      " 22  V22     284807 non-null  float64\n",
      " 23  V23     284807 non-null  float64\n",
      " 24  V24     284807 non-null  float64\n",
      " 25  V25     284807 non-null  float64\n",
      " 26  V26     284807 non-null  float64\n",
      " 27  V27     284807 non-null  float64\n",
      " 28  V28     284807 non-null  float64\n",
      " 29  Amount  284807 non-null  float64\n",
      " 30  Class   284807 non-null  int64  \n",
      "dtypes: float64(30), int64(1)\n",
      "memory usage: 67.4 MB\n"
     ]
    }
   ],
   "source": [
    "df.info()"
   ]
  },
  {
   "cell_type": "code",
   "execution_count": 18,
   "id": "dfe875ee",
   "metadata": {},
   "outputs": [
    {
     "data": {
      "text/plain": [
       "Class\n",
       "0    0.998273\n",
       "1    0.001727\n",
       "Name: proportion, dtype: float64"
      ]
     },
     "execution_count": 18,
     "metadata": {},
     "output_type": "execute_result"
    }
   ],
   "source": [
    "# target column is 'Class'\n",
    "df.Class.value_counts(normalize=True)"
   ]
  },
  {
   "cell_type": "markdown",
   "id": "e753d74a",
   "metadata": {},
   "source": [
    "As it is seen, we have severe imbalaned data. Only ~0.17% is positive class. This is a Fraud Detection data and the objective and the priority is detecting the positive class. In other words, True Positive and False Negative scores are vital."
   ]
  },
  {
   "cell_type": "markdown",
   "id": "b87d6890",
   "metadata": {},
   "source": [
    "### Check classification scores"
   ]
  },
  {
   "cell_type": "code",
   "execution_count": 43,
   "id": "acb2d7d0",
   "metadata": {},
   "outputs": [],
   "source": [
    "df1 = df.head(1000)"
   ]
  },
  {
   "cell_type": "code",
   "execution_count": 44,
   "id": "4bfb20f9",
   "metadata": {},
   "outputs": [],
   "source": [
    "X = df1.drop('Class', axis=1)"
   ]
  },
  {
   "cell_type": "code",
   "execution_count": 45,
   "id": "c50c043e",
   "metadata": {},
   "outputs": [],
   "source": [
    "y = df1['Class']"
   ]
  },
  {
   "cell_type": "code",
   "execution_count": 51,
   "id": "1769f084",
   "metadata": {},
   "outputs": [
    {
     "data": {
      "text/plain": [
       "(1000, 31)"
      ]
     },
     "execution_count": 51,
     "metadata": {},
     "output_type": "execute_result"
    }
   ],
   "source": []
  },
  {
   "cell_type": "code",
   "execution_count": 55,
   "id": "7a5254bd",
   "metadata": {},
   "outputs": [
    {
     "name": "stdout",
     "output_type": "stream",
     "text": [
      "None\n"
     ]
    }
   ],
   "source": [
    "print(cl.classify(X, y))"
   ]
  },
  {
   "cell_type": "markdown",
   "id": "02f96fb3",
   "metadata": {},
   "source": [
    "Let's apply some techniques to deal with this imbalanced data situation."
   ]
  },
  {
   "cell_type": "markdown",
   "id": "dd775f07",
   "metadata": {},
   "source": [
    "## Method 1"
   ]
  },
  {
   "cell_type": "code",
   "execution_count": 22,
   "id": "76195b14",
   "metadata": {},
   "outputs": [
    {
     "name": "stdout",
     "output_type": "stream",
     "text": [
      "# of positive samples: 492\n"
     ]
    }
   ],
   "source": [
    "print(\"# of positive samples:\", df.Class.value_counts()[1])"
   ]
  },
  {
   "cell_type": "code",
   "execution_count": 23,
   "id": "0f090db7",
   "metadata": {},
   "outputs": [
    {
     "name": "stdout",
     "output_type": "stream",
     "text": [
      "Total # of samples: 284807\n"
     ]
    }
   ],
   "source": [
    "print(\"Total # of samples:\", df.shape[0])"
   ]
  },
  {
   "cell_type": "markdown",
   "id": "b60aec5f",
   "metadata": {},
   "source": [
    "We can apply oversampling to minority class OR undersampling to majority clas."
   ]
  },
  {
   "cell_type": "markdown",
   "id": "de0178ac",
   "metadata": {},
   "source": [
    "### 1.1 Oversampling-Only"
   ]
  },
  {
   "cell_type": "code",
   "execution_count": 24,
   "id": "603be976",
   "metadata": {},
   "outputs": [],
   "source": [
    "# Separate the majority and minority classes\n",
    "majority_class = df[df['Class'] == 0]\n",
    "minority_class = df[df['Class'] == 1]"
   ]
  },
  {
   "cell_type": "code",
   "execution_count": 29,
   "id": "060d3b23",
   "metadata": {},
   "outputs": [],
   "source": [
    "oversampled_minority = minority_class.sample(n=int(len(majority_class)*0.2), replace=True, random_state=42)\n"
   ]
  },
  {
   "cell_type": "code",
   "execution_count": 30,
   "id": "f08f4f20",
   "metadata": {},
   "outputs": [
    {
     "data": {
      "text/plain": [
       "(56863, 31)"
      ]
     },
     "execution_count": 30,
     "metadata": {},
     "output_type": "execute_result"
    }
   ],
   "source": [
    "oversampled_minority.shape"
   ]
  },
  {
   "cell_type": "code",
   "execution_count": 31,
   "id": "387db7c0",
   "metadata": {},
   "outputs": [],
   "source": [
    "# Combine oversampled minority class with majority class\n",
    "oversampled_data = pd.concat([majority_class, oversampled_minority], axis=0)"
   ]
  },
  {
   "cell_type": "code",
   "execution_count": 32,
   "id": "a76df7ee",
   "metadata": {},
   "outputs": [
    {
     "data": {
      "text/plain": [
       "Class\n",
       "0    0.833333\n",
       "1    0.166667\n",
       "Name: proportion, dtype: float64"
      ]
     },
     "execution_count": 32,
     "metadata": {},
     "output_type": "execute_result"
    }
   ],
   "source": [
    "oversampled_data.Class.value_counts(normalize=True)"
   ]
  },
  {
   "cell_type": "code",
   "execution_count": null,
   "id": "5e45ab99",
   "metadata": {},
   "outputs": [],
   "source": []
  }
 ],
 "metadata": {
  "kernelspec": {
   "display_name": "Python 3 (ipykernel)",
   "language": "python",
   "name": "python3"
  },
  "language_info": {
   "codemirror_mode": {
    "name": "ipython",
    "version": 3
   },
   "file_extension": ".py",
   "mimetype": "text/x-python",
   "name": "python",
   "nbconvert_exporter": "python",
   "pygments_lexer": "ipython3",
   "version": "3.9.7"
  }
 },
 "nbformat": 4,
 "nbformat_minor": 5
}
